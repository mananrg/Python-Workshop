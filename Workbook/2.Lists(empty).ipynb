{
 "cells": [
  {
   "cell_type": "markdown",
   "metadata": {},
   "source": [
    "In this section we'll cover\n",
    " * Creating lists\n",
    " * Indexing/Slicing \n",
    " * List Methods\n",
    " * Nesting Lists"
   ]
  },
  {
   "cell_type": "markdown",
   "metadata": {},
   "source": [
    " Lists can be constucted using [ ] and elements seperated by commas"
   ]
  },
  {
   "cell_type": "markdown",
   "metadata": {},
   "source": [
    "### 1.Constructing lists"
   ]
  },
  {
   "cell_type": "code",
   "execution_count": null,
   "metadata": {},
   "outputs": [],
   "source": [
    "#Let's create a list of integers\n"
   ]
  },
  {
   "cell_type": "code",
   "execution_count": null,
   "metadata": {},
   "outputs": [],
   "source": []
  },
  {
   "cell_type": "code",
   "execution_count": null,
   "metadata": {},
   "outputs": [],
   "source": [
    "#The elements of the list can be of any data type\n"
   ]
  },
  {
   "cell_type": "code",
   "execution_count": null,
   "metadata": {},
   "outputs": [],
   "source": []
  },
  {
   "cell_type": "code",
   "execution_count": null,
   "metadata": {},
   "outputs": [],
   "source": [
    "#Printing the length of a list\n",
    "#The len() function tells us the length of the list \n"
   ]
  },
  {
   "cell_type": "markdown",
   "metadata": {},
   "source": [
    "### 2.Slicing and Indexing\n",
    "Indexing in python starts from one and not zero"
   ]
  },
  {
   "cell_type": "code",
   "execution_count": null,
   "metadata": {},
   "outputs": [],
   "source": [
    "#Grabbing the third element\n",
    "#0,1,2 so the index 2 will grab the third element of the list.\n"
   ]
  },
  {
   "cell_type": "code",
   "execution_count": null,
   "metadata": {},
   "outputs": [],
   "source": [
    "#Grab element at index 3\n"
   ]
  },
  {
   "cell_type": "code",
   "execution_count": null,
   "metadata": {},
   "outputs": [],
   "source": [
    "#NEGATIVE INDEXING\n",
    "                        #printing the last element of the list\n"
   ]
  },
  {
   "cell_type": "code",
   "execution_count": null,
   "metadata": {},
   "outputs": [],
   "source": [
    " #same as print(second_list[3]) ,its just negative indexing\n",
    " #same as print(second_list[2])\n",
    " #same as print(second_list[1])\n",
    " #same as print(second_list[0])"
   ]
  },
  {
   "cell_type": "code",
   "execution_count": null,
   "metadata": {},
   "outputs": [],
   "source": [
    "#Slicing in list\n",
    "#slicing format list_name[start_ele:end_ele]\n",
    " \n",
    "    \n",
    "#Grab the element index in range 2-4 i.e 5,6,2\n",
    "#the lower limit 2 is included and the upper limit 5 will be exluded\n",
    "#Grab the element index from 1 onwards i.e exluding the element at index 0\n",
    "\n",
    "#Grab all the elements except the last one\n"
   ]
  },
  {
   "cell_type": "code",
   "execution_count": null,
   "metadata": {},
   "outputs": [],
   "source": [
    "#you can even slice strings\n"
   ]
  },
  {
   "cell_type": "markdown",
   "metadata": {},
   "source": [
    "### 3.List functions"
   ]
  },
  {
   "cell_type": "code",
   "execution_count": null,
   "metadata": {},
   "outputs": [],
   "source": [
    "# .append() method permanently adds an item to the end of a list:\n"
   ]
  },
  {
   "cell_type": "code",
   "execution_count": null,
   "metadata": {},
   "outputs": [],
   "source": [
    "# Use \"pop\" to \"pop off\" an item from the list. By default pop takes off the last\n",
    "\n"
   ]
  },
  {
   "cell_type": "code",
   "execution_count": null,
   "metadata": {},
   "outputs": [],
   "source": [
    "#replacing any element in a list\n",
    "#fomat list_name[index]=value\n"
   ]
  },
  {
   "cell_type": "code",
   "execution_count": null,
   "metadata": {},
   "outputs": [],
   "source": [
    "# Use insert to insert elements to a specific index\n"
   ]
  },
  {
   "cell_type": "markdown",
   "metadata": {},
   "source": [
    "<table ><tr><th>Code</th><th>Result</th><th>Parameters</th></tr>\n",
    "\n",
    "<tr ><td><span >append</span></td><td>Adds element to the end of the list</td><td>.append(element/s)</td></tr>\n",
    "\n",
    "<tr ><td><span >pop</span></td><td>Removes the last element of the list</td><td>.pop(index)</td></tr>\n",
    "\n",
    "<tr ><td><span >insert</span></td><td>Adds the element to a specified index</td><td>.insert(index,element)</td></tr>\n",
    "\n",
    "<tr ><td><span >remove</span></td><td>Removes the first item with the specified value</td><td>.remove(element)</td></tr>\n",
    "    \n",
    "<tr ><td><span >reverse</span></td><td>Reverses the order of the list</td><td>.reverse()</td></tr>\n",
    "\n",
    "<tr ><td><span >sort</span></td><td>Returns in ascending/descending order</td><td>.sort()/.sort(reverse=True)</td>\n",
    "\n",
    "<tr ><td><span >count</span></td><td>Returns the count of the elements of the list</td><td>.count(element)</td></tr>\n",
    "  \n",
    "\n",
    "</table>"
   ]
  },
  {
   "cell_type": "code",
   "execution_count": null,
   "metadata": {},
   "outputs": [],
   "source": []
  },
  {
   "cell_type": "markdown",
   "metadata": {},
   "source": [
    "* here 1 stands for index 0\n",
    "* here [3,4] stands for index 1\n",
    "* here [5,6] stands for index 2"
   ]
  },
  {
   "cell_type": "code",
   "execution_count": null,
   "metadata": {},
   "outputs": [],
   "source": [
    "#Trying to access the element 5 from the above list\n",
    "#We will do it by inexing the element\n"
   ]
  },
  {
   "cell_type": "code",
   "execution_count": null,
   "metadata": {},
   "outputs": [],
   "source": [
    "#Adding the elements at index [1][0] and [2][1] i.e 4 + 5 \n"
   ]
  },
  {
   "cell_type": "code",
   "execution_count": null,
   "metadata": {},
   "outputs": [],
   "source": [
    "#Assignment 2\n",
    "#Part-1\n",
    "#slice all the words seperately from the below string\n",
    "\n",
    "#Write your code below\n"
   ]
  },
  {
   "cell_type": "code",
   "execution_count": null,
   "metadata": {},
   "outputs": [],
   "source": [
    "#Part-2\n",
    "\n",
    "#Print all the numbers seperately \n",
    "#Write your code below\n"
   ]
  },
  {
   "cell_type": "code",
   "execution_count": null,
   "metadata": {},
   "outputs": [],
   "source": [
    "# For any queries/doubts mail on\n",
    "# Mail id-machmindskj@gmail.com"
   ]
  }
 ],
 "metadata": {
  "kernelspec": {
   "display_name": "Python 3",
   "language": "python",
   "name": "python3"
  },
  "language_info": {
   "codemirror_mode": {
    "name": "ipython",
    "version": 3
   },
   "file_extension": ".py",
   "mimetype": "text/x-python",
   "name": "python",
   "nbconvert_exporter": "python",
   "pygments_lexer": "ipython3",
   "version": "3.7.3"
  }
 },
 "nbformat": 4,
 "nbformat_minor": 4
}
