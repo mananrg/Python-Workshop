{
 "cells": [
  {
   "cell_type": "markdown",
   "metadata": {},
   "source": [
    "# Dictionary"
   ]
  },
  {
   "cell_type": "markdown",
   "metadata": {},
   "source": [
    "This section will serve as a brief introduction to dictionaries and consist of:\n",
    " * Constructing a Dictionary\n",
    " * Accessing objects from a dictionary\n",
    " * Dictionary Functions"
   ]
  },
  {
   "cell_type": "markdown",
   "metadata": {},
   "source": [
    "## 1.Constructing a Dictionary"
   ]
  },
  {
   "cell_type": "code",
   "execution_count": null,
   "metadata": {},
   "outputs": [],
   "source": [
    "#Dictionary format\n",
    "# A dictionary has a key and a value seperated by : \n",
    "my_dic={'mykey1':'value1','mykey2':'value2','mykey3':'value3'}\n",
    "print(my_dic)"
   ]
  },
  {
   "cell_type": "code",
   "execution_count": null,
   "metadata": {},
   "outputs": [],
   "source": [
    "#Unlike list where we call the items by index in dic we call it by keyname\n",
    "print(my_dic['mykey2'])"
   ]
  },
  {
   "cell_type": "code",
   "execution_count": null,
   "metadata": {},
   "outputs": [],
   "source": [
    "#A dictionary can hold any data type\n",
    "#It can even hold sequences like list or a dicionary itself i.e a nested dictionary\n",
    "my_dic2={'Name':'Manan','Age':18,'email':['xyz@gmail.com','abc@yahoocom'],'Qualification':{'10th':90,'12th':70}}"
   ]
  },
  {
   "cell_type": "markdown",
   "metadata": {},
   "source": [
    "## 2.Accessing objects from a dictionary"
   ]
  },
  {
   "cell_type": "code",
   "execution_count": null,
   "metadata": {},
   "outputs": [],
   "source": [
    "print(my_dic2['Name'])\n",
    "print(my_dic2['Age'])\n",
    "print(my_dic2['email'][0])\n",
    "print(my_dic2['Qualification']['12th'])"
   ]
  },
  {
   "cell_type": "code",
   "execution_count": null,
   "metadata": {},
   "outputs": [],
   "source": [
    "#Create your own dictionary consisting of your family members name,age,email-id\n"
   ]
  },
  {
   "cell_type": "code",
   "execution_count": null,
   "metadata": {},
   "outputs": [],
   "source": [
    "#Nested Dictionary\n",
    "nested={'Human':{'Male':{'Age':18},'Female':{'Age':12}}}\n",
    "print(nested['Human']['Male']['Age'])"
   ]
  },
  {
   "cell_type": "code",
   "execution_count": null,
   "metadata": {},
   "outputs": [],
   "source": [
    "#What if the above dictionary what inside a list?\n",
    "nested=[{'Human':{'Male':{'Age':18},'Female':{'Age':12}}}]\n",
    "print(nested[0]['Human']['Male']['Age'])\n",
    "\n",
    "#The dictionary is at index 0 of the list"
   ]
  },
  {
   "cell_type": "code",
   "execution_count": null,
   "metadata": {},
   "outputs": [],
   "source": [
    "#create a new dictionary by assigning keys and values \n",
    "newdic={}\n",
    "newdic['Name']='Manan'\n",
    "newdic['Age']=18\n",
    "print(newdic)"
   ]
  },
  {
   "cell_type": "code",
   "execution_count": null,
   "metadata": {},
   "outputs": [],
   "source": [
    "## 3.Dictionary Functions"
   ]
  },
  {
   "cell_type": "code",
   "execution_count": null,
   "metadata": {},
   "outputs": [],
   "source": [
    "# Will return list of all items\n",
    "print(newdic.keys())\n",
    "# Will to grab all values\n",
    "print(newdic.values())\n",
    "# Will return tuples of all items  \n",
    "print(newdic.items())"
   ]
  },
  {
   "cell_type": "code",
   "execution_count": null,
   "metadata": {},
   "outputs": [],
   "source": [
    "# Assignment3\n",
    "# Mail id-machmindskj@gmail.com\n",
    "\n",
    "# Part 1\n",
    "# Create any dictionary consisting of an int, a string,a list and a nested dictionary\n",
    "# E.g \n",
    "dic={'item':'name','descr':\"juice\",'pack_expiry':['21Dec','22Jan'],'vitamins':{'a':{'qty':'6%'} ,'b':{'qty':'8%'}}}\n",
    "# print all the keys with values using f string method only"
   ]
  },
  {
   "cell_type": "code",
   "execution_count": null,
   "metadata": {},
   "outputs": [],
   "source": [
    "# Part2\n",
    "# Create a coronavirus dictionary by assigning keys and values\n",
    "# key-country name\n",
    "# value-dict of death and recovered use death and recovered as keys and the number as values\n",
    "# {'country':{'death':no,'recovery':no}}\n",
    "# Strictly by assigning keys and values method only"
   ]
  },
  {
   "cell_type": "code",
   "execution_count": null,
   "metadata": {},
   "outputs": [],
   "source": []
  }
 ],
 "metadata": {
  "kernelspec": {
   "display_name": "Python 3",
   "language": "python",
   "name": "python3"
  },
  "language_info": {
   "codemirror_mode": {
    "name": "ipython",
    "version": 3
   },
   "file_extension": ".py",
   "mimetype": "text/x-python",
   "name": "python",
   "nbconvert_exporter": "python",
   "pygments_lexer": "ipython3",
   "version": "3.7.3"
  }
 },
 "nbformat": 4,
 "nbformat_minor": 4
}
