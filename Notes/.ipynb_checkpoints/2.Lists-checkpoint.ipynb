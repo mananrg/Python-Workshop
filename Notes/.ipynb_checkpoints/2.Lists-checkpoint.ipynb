{
 "cells": [
  {
   "cell_type": "markdown",
   "metadata": {},
   "source": [
    "In this section we'll cover\n",
    " * Creating lists\n",
    " * Indexing/Slicing \n",
    " * List Methods\n",
    " * Nesting Lists"
   ]
  },
  {
   "cell_type": "markdown",
   "metadata": {},
   "source": [
    " Lists can be constucted using [ ] and elements seperated by commas"
   ]
  },
  {
   "cell_type": "markdown",
   "metadata": {},
   "source": [
    "### 1.Constructing lists"
   ]
  },
  {
   "cell_type": "code",
   "execution_count": 1,
   "metadata": {},
   "outputs": [],
   "source": [
    "#Let's create a list of integers\n",
    "first_list=[6,2,3,5,1]"
   ]
  },
  {
   "cell_type": "code",
   "execution_count": 2,
   "metadata": {},
   "outputs": [
    {
     "name": "stdout",
     "output_type": "stream",
     "text": [
      "[6, 2, 3, 5, 1]\n"
     ]
    }
   ],
   "source": [
    "print(first_list)"
   ]
  },
  {
   "cell_type": "code",
   "execution_count": 3,
   "metadata": {},
   "outputs": [],
   "source": [
    "#The elements of the list can be of any data type\n",
    "second_list=[3.0,\"hello\",5,\"world\"]"
   ]
  },
  {
   "cell_type": "code",
   "execution_count": 4,
   "metadata": {},
   "outputs": [
    {
     "name": "stdout",
     "output_type": "stream",
     "text": [
      "[3.0, 'hello', 5, 'world']\n"
     ]
    }
   ],
   "source": [
    "print(second_list)"
   ]
  },
  {
   "cell_type": "code",
   "execution_count": 5,
   "metadata": {},
   "outputs": [
    {
     "name": "stdout",
     "output_type": "stream",
     "text": [
      "4\n"
     ]
    }
   ],
   "source": [
    "#Printing the length of a list\n",
    "#The len() function tells us the length of the list \n",
    "print(len(second_list))"
   ]
  },
  {
   "cell_type": "markdown",
   "metadata": {},
   "source": [
    "### 2.Slicing and Indexing\n",
    "Indexing in python starts from one and not zero"
   ]
  },
  {
   "cell_type": "code",
   "execution_count": 6,
   "metadata": {},
   "outputs": [
    {
     "name": "stdout",
     "output_type": "stream",
     "text": [
      "5\n"
     ]
    }
   ],
   "source": [
    "#Grabbing the third element\n",
    "#0,1,2 so the index 2 will grab the third element of the list.\n",
    "print(second_list[2])"
   ]
  },
  {
   "cell_type": "code",
   "execution_count": 7,
   "metadata": {},
   "outputs": [
    {
     "name": "stdout",
     "output_type": "stream",
     "text": [
      "world\n"
     ]
    }
   ],
   "source": [
    "#Grab element at index 3\n",
    "print(second_list[3])"
   ]
  },
  {
   "cell_type": "code",
   "execution_count": 8,
   "metadata": {},
   "outputs": [
    {
     "name": "stdout",
     "output_type": "stream",
     "text": [
      "world\n"
     ]
    }
   ],
   "source": [
    "#NEGATIVE INDEXING\n",
    "print(second_list[-1]) #printing the last element of the list\n"
   ]
  },
  {
   "cell_type": "code",
   "execution_count": 9,
   "metadata": {},
   "outputs": [
    {
     "name": "stdout",
     "output_type": "stream",
     "text": [
      "world\n",
      "5\n",
      "hello\n",
      "3.0\n"
     ]
    }
   ],
   "source": [
    "print(second_list[-1]) #same as print(second_list[3]) ,its just negative indexing\n",
    "print(second_list[-2]) #same as print(second_list[2])\n",
    "print(second_list[-3]) #same as print(second_list[1])\n",
    "print(second_list[-4]) #same as print(second_list[0])"
   ]
  },
  {
   "cell_type": "code",
   "execution_count": 10,
   "metadata": {},
   "outputs": [
    {
     "name": "stdout",
     "output_type": "stream",
     "text": [
      "[5, 6, 2]\n",
      "[3, 5, 6, 2, 7]\n",
      "[4, 3, 5, 6, 2]\n"
     ]
    }
   ],
   "source": [
    "#Slicing in list\n",
    "#slicing format list_name[start_ele:end_ele]\n",
    "new_list=[4,3,5,6,2,7]\n",
    "\n",
    "#Grab the element index in range 2-4 i.e 5,6,2\n",
    "print(new_list[2:5]) #the lower limit 2 is included and the upper limit 5 will be exluded\n",
    "#Grab the element index from 1 onwards i.e exluding the element at index 0\n",
    "print(new_list[1:])\n",
    "#Grab all the elements except the last one\n",
    "print(new_list[:-1 ])"
   ]
  },
  {
   "cell_type": "code",
   "execution_count": 11,
   "metadata": {},
   "outputs": [
    {
     "data": {
      "text/plain": [
       "'Apple so'"
      ]
     },
     "execution_count": 11,
     "metadata": {},
     "output_type": "execute_result"
    }
   ],
   "source": [
    "#you can even slice strings\n",
    "x=\"Apple sold 20000 airpods in 2019\"\n",
    "x[0:8]"
   ]
  },
  {
   "cell_type": "markdown",
   "metadata": {},
   "source": [
    "### 3.List functions"
   ]
  },
  {
   "cell_type": "code",
   "execution_count": 12,
   "metadata": {},
   "outputs": [
    {
     "name": "stdout",
     "output_type": "stream",
     "text": [
      "[4, 3, 5, 6, 2, 7, 8]\n"
     ]
    }
   ],
   "source": [
    "# .append() method permanently adds an item to the end of a list:\n",
    "new_list.append(8)\n",
    "print(new_list)"
   ]
  },
  {
   "cell_type": "code",
   "execution_count": 13,
   "metadata": {},
   "outputs": [
    {
     "name": "stdout",
     "output_type": "stream",
     "text": [
      "[4, 3, 5, 6, 2, 7]\n",
      "[3, 5, 6, 2, 7]\n"
     ]
    }
   ],
   "source": [
    "# Use \"pop\" to \"pop off\" an item from the list. By default pop takes off the last\n",
    "\n",
    "new_list.pop()\n",
    "print(new_list)\n",
    "new_list.pop(0)\n",
    "print(new_list)"
   ]
  },
  {
   "cell_type": "code",
   "execution_count": 14,
   "metadata": {},
   "outputs": [
    {
     "name": "stdout",
     "output_type": "stream",
     "text": [
      "[1, 5, 6, 2, 7]\n"
     ]
    }
   ],
   "source": [
    "#replacing any element in a list\n",
    "#fomat list_name[index]=value\n",
    "new_list[0]=1\n",
    "print(new_list)"
   ]
  },
  {
   "cell_type": "code",
   "execution_count": 15,
   "metadata": {},
   "outputs": [
    {
     "name": "stdout",
     "output_type": "stream",
     "text": [
      "[1, 5, 4, 6, 2, 7]\n"
     ]
    }
   ],
   "source": [
    "# Use insert to insert elements to a specific index\n",
    "new_list.insert(2,4)\n",
    "print(new_list)"
   ]
  },
  {
   "cell_type": "markdown",
   "metadata": {},
   "source": [
    "<table ><tr><th>Code</th><th>Result</th><th>Parameters</th></tr>\n",
    "\n",
    "<tr ><td><span >append</span></td><td>Adds element to the end of the list</td><td>.append(element/s)</td></tr>\n",
    "\n",
    "<tr ><td><span >pop</span></td><td>Removes the last element of the list</td><td>.pop(index)</td></tr>\n",
    "\n",
    "<tr ><td><span >insert</span></td><td>Adds the element to a specified index</td><td>.insert(index,element)</td></tr>\n",
    "\n",
    "<tr ><td><span >remove</span></td><td>Removes the first item with the specified value</td><td>.remove(element)</td></tr>\n",
    "    \n",
    "<tr ><td><span >reverse</span></td><td>Reverses the order of the list</td><td>.reverse()</td></tr>\n",
    "\n",
    "<tr ><td><span >sort</span></td><td>Returns in ascending/descending order</td><td>.sort()/.sort(reverse=True)</td>\n",
    "\n",
    "<tr ><td><span >count</span></td><td>Returns the count of the elements of the list</td><td>.count(element)</td></tr>\n",
    "  \n",
    "\n",
    "</table>"
   ]
  },
  {
   "cell_type": "code",
   "execution_count": 16,
   "metadata": {},
   "outputs": [
    {
     "name": "stdout",
     "output_type": "stream",
     "text": [
      "[1, [3, 4], [5, 6]]\n",
      "3\n"
     ]
    }
   ],
   "source": [
    "a=1\n",
    "b=[3,4]\n",
    "c=[5,6]\n",
    "nested_list=[a,b,c]\n",
    "print(nested_list)\n",
    "print(len(nested_list))"
   ]
  },
  {
   "cell_type": "markdown",
   "metadata": {},
   "source": [
    "* here 1 stands for index 0\n",
    "* here [3,4] stands for index 1\n",
    "* here [5,6] stands for index 2"
   ]
  },
  {
   "cell_type": "code",
   "execution_count": 17,
   "metadata": {},
   "outputs": [
    {
     "name": "stdout",
     "output_type": "stream",
     "text": [
      "[5, 6]\n",
      "5\n"
     ]
    }
   ],
   "source": [
    "#Trying to access the element 5 from the above list\n",
    "#We will do it by inexing the element\n",
    "print(nested_list[2])\n",
    "print(nested_list[2][0])"
   ]
  },
  {
   "cell_type": "code",
   "execution_count": 18,
   "metadata": {},
   "outputs": [
    {
     "name": "stdout",
     "output_type": "stream",
     "text": [
      "9\n"
     ]
    }
   ],
   "source": [
    "#Adding the elements at index [1][0] and [2][1] i.e 4 + 5 \n",
    "print(nested_list[1][0]+nested_list[2][1])"
   ]
  },
  {
   "cell_type": "code",
   "execution_count": 19,
   "metadata": {},
   "outputs": [],
   "source": [
    "#Assignment 2\n",
    "#Part-1\n",
    "#slice all the words seperately from the below string\n",
    "string=\"Apple sold 20000 airpods in 2019\"\n",
    "\n",
    "#Write your code here\n"
   ]
  },
  {
   "cell_type": "code",
   "execution_count": 20,
   "metadata": {},
   "outputs": [],
   "source": [
    "#Part-2\n",
    "list1=[[[5,4],[2,3]],1,7]\n",
    "#Print all the numbers seperately \n"
   ]
  },
  {
   "cell_type": "code",
   "execution_count": 21,
   "metadata": {},
   "outputs": [],
   "source": [
    "# For any queries/doubts\n",
    "# Mail id-machmindskj@gmail.com\n"
   ]
  }
 ],
 "metadata": {
  "kernelspec": {
   "display_name": "Python 3",
   "language": "python",
   "name": "python3"
  },
  "language_info": {
   "codemirror_mode": {
    "name": "ipython",
    "version": 3
   },
   "file_extension": ".py",
   "mimetype": "text/x-python",
   "name": "python",
   "nbconvert_exporter": "python",
   "pygments_lexer": "ipython3",
   "version": "3.7.6"
  }
 },
 "nbformat": 4,
 "nbformat_minor": 4
}
