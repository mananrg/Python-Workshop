{
 "cells": [
  {
   "cell_type": "code",
   "execution_count": 1,
   "metadata": {},
   "outputs": [],
   "source": [
    "#Indentation is very important in python.\n",
    "#Using indentation makes the code for readable"
   ]
  },
  {
   "cell_type": "markdown",
   "metadata": {},
   "source": [
    "## 1.For-loop"
   ]
  },
  {
   "cell_type": "code",
   "execution_count": 2,
   "metadata": {},
   "outputs": [
    {
     "name": "stdout",
     "output_type": "stream",
     "text": [
      "The name is manan\n",
      "The name is dave\n",
      "The name is john\n",
      "The name is alfred\n"
     ]
    }
   ],
   "source": [
    "#for loop for a list\n",
    "my_list=[\"manan\",\"dave\",\"john\",\"alfred\"]\n",
    "for i in my_list:\n",
    "    print(\"The name is\",i)"
   ]
  },
  {
   "cell_type": "code",
   "execution_count": 3,
   "metadata": {},
   "outputs": [
    {
     "name": "stdout",
     "output_type": "stream",
     "text": [
      "manan\n",
      "dave\n",
      "john\n",
      "alfred\n"
     ]
    }
   ],
   "source": [
    "#for loops for a dictionart:\n",
    "names_ages={\"manan\":18,\"dave\":19,\"john\":18,\"alfred\":17}\n",
    "for i in names_ages:    #same as for i in names_ages.keys()\n",
    "    print(i)"
   ]
  },
  {
   "cell_type": "code",
   "execution_count": 4,
   "metadata": {},
   "outputs": [
    {
     "name": "stdout",
     "output_type": "stream",
     "text": [
      "manan 18\n",
      "dave 19\n",
      "john 18\n",
      "alfred 17\n"
     ]
    }
   ],
   "source": [
    "for a,b in names_ages.items():\n",
    "    print(a,b)"
   ]
  },
  {
   "cell_type": "code",
   "execution_count": 5,
   "metadata": {},
   "outputs": [
    {
     "name": "stdout",
     "output_type": "stream",
     "text": [
      "18\n",
      "19\n",
      "18\n",
      "17\n"
     ]
    }
   ],
   "source": [
    "for a in names_ages.values():\n",
    "    print(a)"
   ]
  },
  {
   "cell_type": "code",
   "execution_count": 6,
   "metadata": {},
   "outputs": [
    {
     "name": "stdout",
     "output_type": "stream",
     "text": [
      "The key is manan\n",
      "The value is 18\n",
      "The key is dave\n",
      "The value is 19\n",
      "The key is john\n",
      "The value is 18\n",
      "The key is alfred\n",
      "The value is 17\n"
     ]
    }
   ],
   "source": [
    "for a in names_ages:\n",
    "    print(\"The key is\",a)\n",
    "    print(\"The value is\",names_ages[a])"
   ]
  },
  {
   "cell_type": "code",
   "execution_count": 7,
   "metadata": {},
   "outputs": [
    {
     "name": "stdout",
     "output_type": "stream",
     "text": [
      "(1, 2)\n",
      "(3, 4)\n",
      "-------------\n",
      "1\n",
      "2\n",
      "3\n",
      "4\n"
     ]
    }
   ],
   "source": [
    "#for tup\n",
    "tup=((1,2),(3,4))\n",
    "for i in tup:\n",
    "    print(i)\n",
    "print(\"-------------\")          \n",
    "for a,b in tup:\n",
    "    print(a)\n",
    "    print(b)"
   ]
  },
  {
   "cell_type": "markdown",
   "metadata": {},
   "source": [
    "## 2.While-loop"
   ]
  },
  {
   "cell_type": "code",
   "execution_count": 8,
   "metadata": {},
   "outputs": [
    {
     "name": "stdout",
     "output_type": "stream",
     "text": [
      "0\n",
      "1\n",
      "2\n",
      "3\n",
      "4\n",
      "5\n"
     ]
    }
   ],
   "source": [
    "i=0\n",
    "while i<6:\n",
    "    print(i)\n",
    "    i+=1"
   ]
  },
  {
   "cell_type": "code",
   "execution_count": 9,
   "metadata": {},
   "outputs": [
    {
     "name": "stdout",
     "output_type": "stream",
     "text": [
      "0\n",
      "1\n",
      "2\n",
      "3\n",
      "4\n",
      "5\n"
     ]
    }
   ],
   "source": [
    "#python doesnt have a do-while\n",
    "#lets manually code it\n",
    "i=0\n",
    "while True:\n",
    "    print(i)\n",
    "    i=i+1\n",
    "    if i>5:\n",
    "        break"
   ]
  },
  {
   "cell_type": "code",
   "execution_count": null,
   "metadata": {},
   "outputs": [],
   "source": []
  }
 ],
 "metadata": {
  "kernelspec": {
   "display_name": "Python 3",
   "language": "python",
   "name": "python3"
  },
  "language_info": {
   "codemirror_mode": {
    "name": "ipython",
    "version": 3
   },
   "file_extension": ".py",
   "mimetype": "text/x-python",
   "name": "python",
   "nbconvert_exporter": "python",
   "pygments_lexer": "ipython3",
   "version": "3.7.6"
  }
 },
 "nbformat": 4,
 "nbformat_minor": 4
}
