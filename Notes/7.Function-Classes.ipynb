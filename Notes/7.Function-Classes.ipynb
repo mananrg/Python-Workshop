{
 "cells": [
  {
   "cell_type": "code",
   "execution_count": null,
   "metadata": {},
   "outputs": [],
   "source": [
    "#A function is basically a group of statements that performs a task\n",
    "#A function within a class is known as method"
   ]
  },
  {
   "cell_type": "code",
   "execution_count": null,
   "metadata": {},
   "outputs": [],
   "source": [
    "def Uppercase():\n",
    "    stri=\"my name is manan\"\n",
    "    x=stri.upper()\n",
    "    print(x)\n",
    "    "
   ]
  },
  {
   "cell_type": "code",
   "execution_count": null,
   "metadata": {},
   "outputs": [],
   "source": [
    "Uppercase()"
   ]
  },
  {
   "cell_type": "code",
   "execution_count": null,
   "metadata": {},
   "outputs": [],
   "source": [
    "def Lowercase(s):\n",
    "    x=s.lower()\n",
    "    print(x)"
   ]
  },
  {
   "cell_type": "code",
   "execution_count": null,
   "metadata": {},
   "outputs": [],
   "source": [
    "s=\"MY NAME IS MANAN\"\n",
    "Lowercase(s)"
   ]
  },
  {
   "cell_type": "code",
   "execution_count": null,
   "metadata": {},
   "outputs": [],
   "source": [
    "#A function without a name is called as an anonymous function \n",
    "#In python lamba is the anonymous function\n",
    "x=5\n",
    "y=lambda x:x+5\n",
    "#def functions usually return values but lambda function returns a function\n",
    "#limitations of lambda function is that it takes only a single expression to work on"
   ]
  },
  {
   "cell_type": "code",
   "execution_count": null,
   "metadata": {},
   "outputs": [],
   "source": [
    "print(y(x))"
   ]
  },
  {
   "cell_type": "code",
   "execution_count": null,
   "metadata": {},
   "outputs": [],
   "source": [
    "## Classes in python"
   ]
  },
  {
   "cell_type": "code",
   "execution_count": null,
   "metadata": {},
   "outputs": [],
   "source": [
    "#Objects having similar behavior/properties could be brought together into a class\n",
    "#e.g name,age are the common properties that humans share\n",
    "\n",
    "class humans:\n",
    "    def name(name):\n",
    "        print(\"Name is\",name)\n",
    "    def age(age):\n",
    "        print(\"Age is\",age)\n",
    "         \n"
   ]
  },
  {
   "cell_type": "code",
   "execution_count": null,
   "metadata": {},
   "outputs": [],
   "source": [
    "humans.name(\"manan\")"
   ]
  },
  {
   "cell_type": "code",
   "execution_count": null,
   "metadata": {},
   "outputs": [],
   "source": [
    "##Assignment 4:\n",
    "#Mail id-machmindskj@gmail.com\n",
    "#Subject-yourname-assignment4\n",
    "#File name 7.Function-Classes\n",
    "\n",
    "#create a class for basic arithmetic operations(+,-,/,*)\n",
    "#you can use def method "
   ]
  }
 ],
 "metadata": {
  "kernelspec": {
   "display_name": "Python 3",
   "language": "python",
   "name": "python3"
  },
  "language_info": {
   "codemirror_mode": {
    "name": "ipython",
    "version": 3
   },
   "file_extension": ".py",
   "mimetype": "text/x-python",
   "name": "python",
   "nbconvert_exporter": "python",
   "pygments_lexer": "ipython3",
   "version": "3.7.3"
  }
 },
 "nbformat": 4,
 "nbformat_minor": 4
}
